{
  "cells": [
    {
      "cell_type": "code",
      "source": [
        "# ✅ Install OpenAI SDK - version 0.28 (compatible with current script)\n",
        "!pip install openai==0.28 --quiet\n",
        "\n"
      ],
      "metadata": {
        "id": "fnGaEUU8FuCz"
      },
      "execution_count": 1,
      "outputs": []
    },
    {
      "cell_type": "code",
      "source": [
        "#import of libraries\n",
        "import openai\n",
        "import getpass\n"
      ],
      "metadata": {
        "id": "UEGVq0qNPMdQ"
      },
      "execution_count": 2,
      "outputs": []
    },
    {
      "cell_type": "code",
      "source": [
        "\n",
        "# 🔐 Enter your API key securely (hidden input)\n",
        "openai.api_key = getpass.getpass(\"🔐 Enter your OpenAI API key: \")\n",
        "\n",
        "# 🎯 Prompt (business use case – tax compliance)\n",
        "prompt = \"\"\"\n",
        "You are an Italian tax expert. Briefly list the main VAT obligations for an SRL (limited liability company) under the standard tax regime in 2024. Reply with 5 concise bullet points.\n",
        "\"\"\"\n",
        "\n",
        "# ⚙️ Settings for both models\n",
        "messages = [\n",
        "    {\"role\": \"system\", \"content\": \"You are a senior assistant specialized in Italian tax compliance.\"},\n",
        "    {\"role\": \"user\", \"content\": prompt}\n",
        "]\n",
        "temperature = 0.5\n",
        "max_tokens = 500\n",
        "\n",
        "# 📌 Define keyword list for evaluation\n",
        "keywords = [\"VAT\", \"invoice\", \"register\", \"communication\", \"filing\"]\n",
        "\n",
        "# 📤 Function to evaluate model output\n",
        "def evaluate_output(output):\n",
        "    score = sum(1 for kw in keywords if kw.lower() in output.lower())\n",
        "    return {\n",
        "        \"output\": output,\n",
        "        \"word_count\": len(output.split()),\n",
        "        \"keyword_match\": score,\n",
        "        \"relevance\": \"✅ Sufficient\" if score >= 3 else \"❌ Low\"\n",
        "    }\n",
        "\n",
        "# 🤖 Run GPT-3.5-turbo\n",
        "print(\"\\n🔹 GPT-3.5-Turbo Output:\\n\")\n",
        "response_35 = openai.ChatCompletion.create(\n",
        "    model=\"gpt-3.5-turbo\",\n",
        "    messages=messages,\n",
        "    temperature=temperature,\n",
        "    max_tokens=max_tokens\n",
        ")\n",
        "output_35 = response_35['choices'][0]['message']['content']\n",
        "eval_35 = evaluate_output(output_35)\n",
        "print(output_35)\n",
        "\n",
        "# 🧠 Evaluation Summary - 3.5\n",
        "print(\"\\n🔎 GPT-3.5 Evaluation:\")\n",
        "print(f\"- Word count: {eval_35['word_count']}\")\n",
        "print(f\"- Keyword match: {eval_35['keyword_match']}/5\")\n",
        "print(f\"- Relevance: {eval_35['relevance']}\")\n",
        "\n",
        "# 🤖 Run GPT-4\n",
        "print(\"\\n🔷 GPT-4 Output:\\n\")\n",
        "try:\n",
        "    response_4 = openai.ChatCompletion.create(\n",
        "        model=\"gpt-4\",\n",
        "        messages=messages,\n",
        "        temperature=temperature,\n",
        "        max_tokens=max_tokens\n",
        "    )\n",
        "    output_4 = response_4['choices'][0]['message']['content']\n",
        "    eval_4 = evaluate_output(output_4)\n",
        "    print(output_4)\n",
        "\n",
        "    # 🧠 Evaluation Summary - 4\n",
        "    print(\"\\n🔎 GPT-4 Evaluation:\")\n",
        "    print(f\"- Word count: {eval_4['word_count']}\")\n",
        "    print(f\"- Keyword match: {eval_4['keyword_match']}/5\")\n",
        "    print(f\"- Relevance: {eval_4['relevance']}\")\n",
        "\n",
        "except Exception as e:\n",
        "    print(\"❌ GPT-4 call failed (no access or quota exceeded):\", e)\n"
      ],
      "metadata": {
        "colab": {
          "base_uri": "https://localhost:8080/"
        },
        "id": "AhBlYiDSIDp4",
        "outputId": "7ebda606-9f42-4625-9b53-14aefa431602"
      },
      "execution_count": 3,
      "outputs": [
        {
          "output_type": "stream",
          "name": "stdout",
          "text": [
            "🔐 Enter your OpenAI API key: ··········\n",
            "\n",
            "🔹 GPT-3.5-Turbo Output:\n",
            "\n",
            "- Charging VAT on sales of goods or services at the standard rate of 22%.\n",
            "- Issuing invoices that comply with the Italian VAT regulations.\n",
            "- Submitting periodic VAT returns (usually monthly or quarterly).\n",
            "- Keeping proper VAT records and documentation for at least 10 years.\n",
            "- Complying with Intrastat reporting requirements for intra-EU trade.\n",
            "\n",
            "🔎 GPT-3.5 Evaluation:\n",
            "- Word count: 55\n",
            "- Keyword match: 2/5\n",
            "- Relevance: ❌ Low\n",
            "\n",
            "🔷 GPT-4 Output:\n",
            "\n",
            "1. **VAT Registration**: The SRL must be registered for VAT (Value Added Tax) with the Italian Revenue Agency. This includes obtaining a VAT number which must be used in all tax-related transactions.\n",
            "\n",
            "2. **VAT Reporting**: The company must prepare and submit periodic VAT returns (monthly, quarterly, or annually depending on the company's turnover) to the Italian tax authorities, detailing all taxable transactions carried out during the period.\n",
            "\n",
            "3. **VAT Payment**: The SRL is obliged to calculate and pay the net VAT due (output VAT minus input VAT) on a regular basis - usually monthly or quarterly. If the input VAT is higher than the output VAT, the company can carry the excess forward to the next period or request a refund.\n",
            "\n",
            "4. **Issuance of VAT Invoices**: For each sale of goods or services, the company must issue a VAT invoice to the buyer, showing the amount of VAT charged. The invoice must comply with the requirements of the Italian VAT law.\n",
            "\n",
            "5. **Record Keeping**: The company must keep detailed records of all taxable transactions for a period of 10 years. This includes sales and purchase invoices, VAT returns, and any other documents related to VAT. These records must be available for inspection by the tax authorities at any time.\n",
            "\n",
            "🔎 GPT-4 Evaluation:\n",
            "- Word count: 209\n",
            "- Keyword match: 3/5\n",
            "- Relevance: ✅ Sufficient\n"
          ]
        }
      ]
    }
  ],
  "metadata": {
    "accelerator": "GPU",
    "colab": {
      "gpuType": "T4",
      "provenance": []
    },
    "kernelspec": {
      "display_name": "Python 3",
      "name": "python3"
    }
  },
  "nbformat": 4,
  "nbformat_minor": 0
}