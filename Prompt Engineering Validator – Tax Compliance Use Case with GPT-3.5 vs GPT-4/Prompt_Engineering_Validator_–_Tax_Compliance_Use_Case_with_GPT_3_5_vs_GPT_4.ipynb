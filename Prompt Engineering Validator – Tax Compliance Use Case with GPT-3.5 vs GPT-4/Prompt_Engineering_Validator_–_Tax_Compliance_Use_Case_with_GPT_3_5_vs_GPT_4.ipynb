{
  "cells": [
    {
      "cell_type": "code",
      "source": [
        "!pip install -U langchain-openai openai --quiet\n",
        "!pip install -U langchain-openai openai"
      ],
      "metadata": {
        "colab": {
          "base_uri": "https://localhost:8080/"
        },
        "id": "2Ypg11fybhsN",
        "outputId": "975d0dd4-8f89-4a5c-fcef-48c76512c31a"
      },
      "execution_count": 1,
      "outputs": [
        {
          "output_type": "stream",
          "name": "stdout",
          "text": [
            "\u001b[?25l   \u001b[90m━━━━━━━━━━━━━━━━━━━━━━━━━━━━━━━━━━━━━━━━\u001b[0m \u001b[32m0.0/734.6 kB\u001b[0m \u001b[31m?\u001b[0m eta \u001b[36m-:--:--\u001b[0m\r\u001b[2K   \u001b[90m━━━━━━━━━━━━━━━━━━━━━━━━━━━━━━━━━━━━━━━━\u001b[0m \u001b[32m734.6/734.6 kB\u001b[0m \u001b[31m32.7 MB/s\u001b[0m eta \u001b[36m0:00:00\u001b[0m\n",
            "\u001b[?25hRequirement already satisfied: langchain-openai in /usr/local/lib/python3.11/dist-packages (0.3.24)\n",
            "Requirement already satisfied: openai in /usr/local/lib/python3.11/dist-packages (1.90.0)\n",
            "Requirement already satisfied: langchain-core<1.0.0,>=0.3.65 in /usr/local/lib/python3.11/dist-packages (from langchain-openai) (0.3.66)\n",
            "Requirement already satisfied: tiktoken<1,>=0.7 in /usr/local/lib/python3.11/dist-packages (from langchain-openai) (0.9.0)\n",
            "Requirement already satisfied: anyio<5,>=3.5.0 in /usr/local/lib/python3.11/dist-packages (from openai) (4.9.0)\n",
            "Requirement already satisfied: distro<2,>=1.7.0 in /usr/local/lib/python3.11/dist-packages (from openai) (1.9.0)\n",
            "Requirement already satisfied: httpx<1,>=0.23.0 in /usr/local/lib/python3.11/dist-packages (from openai) (0.28.1)\n",
            "Requirement already satisfied: jiter<1,>=0.4.0 in /usr/local/lib/python3.11/dist-packages (from openai) (0.10.0)\n",
            "Requirement already satisfied: pydantic<3,>=1.9.0 in /usr/local/lib/python3.11/dist-packages (from openai) (2.11.7)\n",
            "Requirement already satisfied: sniffio in /usr/local/lib/python3.11/dist-packages (from openai) (1.3.1)\n",
            "Requirement already satisfied: tqdm>4 in /usr/local/lib/python3.11/dist-packages (from openai) (4.67.1)\n",
            "Requirement already satisfied: typing-extensions<5,>=4.11 in /usr/local/lib/python3.11/dist-packages (from openai) (4.14.0)\n",
            "Requirement already satisfied: idna>=2.8 in /usr/local/lib/python3.11/dist-packages (from anyio<5,>=3.5.0->openai) (3.10)\n",
            "Requirement already satisfied: certifi in /usr/local/lib/python3.11/dist-packages (from httpx<1,>=0.23.0->openai) (2025.6.15)\n",
            "Requirement already satisfied: httpcore==1.* in /usr/local/lib/python3.11/dist-packages (from httpx<1,>=0.23.0->openai) (1.0.9)\n",
            "Requirement already satisfied: h11>=0.16 in /usr/local/lib/python3.11/dist-packages (from httpcore==1.*->httpx<1,>=0.23.0->openai) (0.16.0)\n",
            "Requirement already satisfied: langsmith>=0.3.45 in /usr/local/lib/python3.11/dist-packages (from langchain-core<1.0.0,>=0.3.65->langchain-openai) (0.3.45)\n",
            "Requirement already satisfied: tenacity!=8.4.0,<10.0.0,>=8.1.0 in /usr/local/lib/python3.11/dist-packages (from langchain-core<1.0.0,>=0.3.65->langchain-openai) (9.1.2)\n",
            "Requirement already satisfied: jsonpatch<2.0,>=1.33 in /usr/local/lib/python3.11/dist-packages (from langchain-core<1.0.0,>=0.3.65->langchain-openai) (1.33)\n",
            "Requirement already satisfied: PyYAML>=5.3 in /usr/local/lib/python3.11/dist-packages (from langchain-core<1.0.0,>=0.3.65->langchain-openai) (6.0.2)\n",
            "Requirement already satisfied: packaging<25,>=23.2 in /usr/local/lib/python3.11/dist-packages (from langchain-core<1.0.0,>=0.3.65->langchain-openai) (24.2)\n",
            "Requirement already satisfied: annotated-types>=0.6.0 in /usr/local/lib/python3.11/dist-packages (from pydantic<3,>=1.9.0->openai) (0.7.0)\n",
            "Requirement already satisfied: pydantic-core==2.33.2 in /usr/local/lib/python3.11/dist-packages (from pydantic<3,>=1.9.0->openai) (2.33.2)\n",
            "Requirement already satisfied: typing-inspection>=0.4.0 in /usr/local/lib/python3.11/dist-packages (from pydantic<3,>=1.9.0->openai) (0.4.1)\n",
            "Requirement already satisfied: regex>=2022.1.18 in /usr/local/lib/python3.11/dist-packages (from tiktoken<1,>=0.7->langchain-openai) (2024.11.6)\n",
            "Requirement already satisfied: requests>=2.26.0 in /usr/local/lib/python3.11/dist-packages (from tiktoken<1,>=0.7->langchain-openai) (2.32.3)\n",
            "Requirement already satisfied: jsonpointer>=1.9 in /usr/local/lib/python3.11/dist-packages (from jsonpatch<2.0,>=1.33->langchain-core<1.0.0,>=0.3.65->langchain-openai) (3.0.0)\n",
            "Requirement already satisfied: orjson<4.0.0,>=3.9.14 in /usr/local/lib/python3.11/dist-packages (from langsmith>=0.3.45->langchain-core<1.0.0,>=0.3.65->langchain-openai) (3.10.18)\n",
            "Requirement already satisfied: requests-toolbelt<2.0.0,>=1.0.0 in /usr/local/lib/python3.11/dist-packages (from langsmith>=0.3.45->langchain-core<1.0.0,>=0.3.65->langchain-openai) (1.0.0)\n",
            "Requirement already satisfied: zstandard<0.24.0,>=0.23.0 in /usr/local/lib/python3.11/dist-packages (from langsmith>=0.3.45->langchain-core<1.0.0,>=0.3.65->langchain-openai) (0.23.0)\n",
            "Requirement already satisfied: charset-normalizer<4,>=2 in /usr/local/lib/python3.11/dist-packages (from requests>=2.26.0->tiktoken<1,>=0.7->langchain-openai) (3.4.2)\n",
            "Requirement already satisfied: urllib3<3,>=1.21.1 in /usr/local/lib/python3.11/dist-packages (from requests>=2.26.0->tiktoken<1,>=0.7->langchain-openai) (2.4.0)\n"
          ]
        }
      ]
    },
    {
      "cell_type": "code",
      "source": [
        "import os\n",
        "import getpass\n",
        "from langchain_openai import ChatOpenAI\n",
        "from langchain.schema import SystemMessage, HumanMessage"
      ],
      "metadata": {
        "id": "33lVgD3cXqhM"
      },
      "execution_count": 2,
      "outputs": []
    },
    {
      "cell_type": "code",
      "source": [
        "# 🔐 Enter your OpenAI API key securely\n",
        "os.environ[\"OPENAI_API_KEY\"] = getpass.getpass(\"🔐 Enter your OpenAI API Key: \")\n",
        "\n",
        "# 🎯 Business Prompt (VAT compliance simulation)\n",
        "user_prompt = \"\"\"\n",
        "You are an Italian tax expert. Briefly list the main VAT obligations for an SRL (limited liability company) under the standard tax regime in 2024. Reply with 5 concise bullet points.\n",
        "\"\"\"\n",
        "\n",
        "# 📌 Enhanced keyword list for evaluation\n",
        "KEYWORDS = [\n",
        "    \"VAT registration\", \"VAT return\", \"VAT invoice\",\n",
        "    \"VAT payment\", \"record keeping\", \"10 years\",\n",
        "    \"deductions\", \"refund\", \"Italian Revenue Agency\"\n",
        "]\n",
        "\n",
        "# ⚙️ Generate model output with LangChain wrapper\n",
        "def generate_response(model_name=\"gpt-4\"):\n",
        "    llm = ChatOpenAI(model_name=model_name, temperature=0.5)\n",
        "    messages = [\n",
        "        SystemMessage(content=\"You are a senior assistant specialized in Italian tax compliance.\"),\n",
        "        HumanMessage(content=user_prompt)\n",
        "    ]\n",
        "    response = llm.invoke(messages)\n",
        "    return response.content\n",
        "\n",
        "# 📤 Evaluate model output relevance\n",
        "def evaluate_output(output: str, keywords: list):\n",
        "    score = sum(1 for kw in keywords if kw.lower() in output.lower())\n",
        "    relevance = \"✅ Sufficient\" if score >= 4 else \"⚠️ Borderline\" if score == 3 else \"❌ Low\"\n",
        "    return {\n",
        "        \"output\": output,\n",
        "        \"word_count\": len(output.split()),\n",
        "        \"keyword_match\": score,\n",
        "        \"relevance\": relevance\n",
        "    }\n",
        "\n",
        "# ▶️ GPT-3.5 Evaluation\n",
        "print(\"\\n🔹 GPT-3.5 Output:\\n\")\n",
        "output_35 = generate_response(\"gpt-3.5-turbo\")\n",
        "eval_35 = evaluate_output(output_35, KEYWORDS)\n",
        "print(output_35)\n",
        "\n",
        "print(\"\\n🔎 GPT-3.5 Evaluation:\")\n",
        "print(f\"- Word count: {eval_35['word_count']}\")\n",
        "print(f\"- Keyword match: {eval_35['keyword_match']}/9\")\n",
        "print(f\"- Relevance: {eval_35['relevance']}\")\n",
        "\n",
        "# ▶️ GPT-4 Evaluation\n",
        "print(\"\\n🔷 GPT-4 Output:\\n\")\n",
        "try:\n",
        "    output_4 = generate_response(\"gpt-4\")\n",
        "    eval_4 = evaluate_output(output_4, KEYWORDS)\n",
        "    print(output_4)\n",
        "\n",
        "    print(\"\\n🔎 GPT-4 Evaluation:\")\n",
        "    print(f\"- Word count: {eval_4['word_count']}\")\n",
        "    print(f\"- Keyword match: {eval_4['keyword_match']}/9\")\n",
        "    print(f\"- Relevance: {eval_4['relevance']}\")\n",
        "except Exception as e:\n",
        "    print(\"❌ GPT-4 call failed:\", e)"
      ],
      "metadata": {
        "colab": {
          "base_uri": "https://localhost:8080/"
        },
        "id": "Q2_HMGbuXvsX",
        "outputId": "058d392f-72ca-4663-a6c3-12e8d4d5f671"
      },
      "execution_count": 3,
      "outputs": [
        {
          "output_type": "stream",
          "name": "stdout",
          "text": [
            "🔐 Enter your OpenAI API Key: ··········\n",
            "\n",
            "🔹 GPT-3.5 Output:\n",
            "\n",
            "- Register for VAT with the Italian Revenue Agency (Agenzia delle Entrate)\n",
            "- Issue VAT invoices for all taxable transactions\n",
            "- File periodic VAT returns and pay any VAT due to the tax authorities\n",
            "- Maintain proper VAT accounting records and documentation\n",
            "- Comply with VAT rules for intra-EU transactions, if applicable\n",
            "\n",
            "🔎 GPT-3.5 Evaluation:\n",
            "- Word count: 52\n",
            "- Keyword match: 3/9\n",
            "- Relevance: ⚠️ Borderline\n",
            "\n",
            "🔷 GPT-4 Output:\n",
            "\n",
            "1. VAT Registration: An SRL must be registered for VAT (Value Added Tax) with the Italian Revenue Agency. This involves obtaining a VAT number for all tax transactions.\n",
            "\n",
            "2. VAT Reporting: The SRL is required to file periodic VAT returns, typically on a quarterly or monthly basis depending on the size of the company. This includes reporting all taxable transactions, both purchases and sales.\n",
            "\n",
            "3. VAT Payment: The company must pay the net VAT (output VAT - input VAT) to the Italian Revenue Agency within the stipulated deadlines. The payment frequency can be monthly, quarterly, or annually.\n",
            "\n",
            "4. Issuance of VAT Invoices: For every transaction, the SRL is obliged to issue a VAT invoice to the buyer. The invoice should contain all necessary details including the VAT rate and the amount of VAT charged.\n",
            "\n",
            "5. Record Keeping: The SRL must keep all VAT invoices and receipts for a minimum of 10 years. These records should be readily available for audit by the Italian Revenue Agency.\n",
            "\n",
            "🔎 GPT-4 Evaluation:\n",
            "- Word count: 165\n",
            "- Keyword match: 7/9\n",
            "- Relevance: ✅ Sufficient\n"
          ]
        }
      ]
    }
  ],
  "metadata": {
    "accelerator": "GPU",
    "colab": {
      "gpuType": "T4",
      "provenance": []
    },
    "kernelspec": {
      "display_name": "Python 3",
      "name": "python3"
    }
  },
  "nbformat": 4,
  "nbformat_minor": 0
}